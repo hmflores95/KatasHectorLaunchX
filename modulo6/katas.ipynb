{
 "cells": [
  {
   "cell_type": "markdown",
   "metadata": {},
   "source": [
    "# Ejercicio 1"
   ]
  },
  {
   "cell_type": "code",
   "execution_count": 3,
   "metadata": {},
   "outputs": [
    {
     "name": "stdout",
     "output_type": "stream",
     "text": [
      "8 planetas\n"
     ]
    }
   ],
   "source": [
    "# Creamos la lista planets y la mostramos\n",
    "planetas = ['Mercury', 'Venus', 'Earth', 'Mars', 'Jupiter', 'Saturn', 'Uranus', 'Neptune']\n",
    "\n",
    "print(len(planetas), 'planetas')"
   ]
  },
  {
   "cell_type": "code",
   "execution_count": 4,
   "metadata": {},
   "outputs": [
    {
     "name": "stdout",
     "output_type": "stream",
     "text": [
      "Pluto es el ultimo planeta\n"
     ]
    }
   ],
   "source": [
    "# Agregamos a plutón y mostramos el último elemento\n",
    "planetas.append('Pluto')\n",
    "\n",
    "print(planetas[-1], 'es el ultimo planeta')"
   ]
  },
  {
   "cell_type": "markdown",
   "metadata": {},
   "source": [
    "# Ejercicio 2"
   ]
  },
  {
   "cell_type": "code",
   "execution_count": 5,
   "metadata": {},
   "outputs": [],
   "source": [
    "# Lista de planetas\n",
    "planets = ['Mercury', 'Venus', 'Earth', 'Mars', 'Jupiter', 'Saturn', 'Neptune']"
   ]
  },
  {
   "cell_type": "code",
   "execution_count": 8,
   "metadata": {},
   "outputs": [],
   "source": [
    "# Solicitamos el nombre de un planeta *Pista:  input()*\n",
    "user_planet = input('Ingrese el nombre del planeta iniciando con mayuscula')"
   ]
  },
  {
   "cell_type": "code",
   "execution_count": 9,
   "metadata": {},
   "outputs": [],
   "source": [
    "# Busca el planeta en la lista\n",
    "planet_index = planets.index(user_planet)"
   ]
  },
  {
   "cell_type": "code",
   "execution_count": 10,
   "metadata": {},
   "outputs": [
    {
     "name": "stdout",
     "output_type": "stream",
     "text": [
      "Here are the planets closer than Mercury\n",
      "[]\n"
     ]
    }
   ],
   "source": [
    "# Muestra los planetas más cercanos al sol\n",
    "print('Here are the planets closer than ' + user_planet)\n",
    "print(planets[0:planet_index])"
   ]
  },
  {
   "cell_type": "code",
   "execution_count": 11,
   "metadata": {},
   "outputs": [
    {
     "name": "stdout",
     "output_type": "stream",
     "text": [
      "Here are the planets further than Mercury\n",
      "['Venus', 'Earth', 'Mars', 'Jupiter', 'Saturn', 'Neptune']\n"
     ]
    }
   ],
   "source": [
    "# Muestra los planetas más lejanos al sol\n",
    "print('Here are the planets further than ' + user_planet)\n",
    "print(planets[planet_index + 1:])"
   ]
  }
 ],
 "metadata": {
  "interpreter": {
   "hash": "4bdaa58423d05adf2d26dfff503222a7146b292425428c6571a4e35e92e015ac"
  },
  "kernelspec": {
   "display_name": "Python 3.10.2 64-bit",
   "language": "python",
   "name": "python3"
  },
  "language_info": {
   "codemirror_mode": {
    "name": "ipython",
    "version": 3
   },
   "file_extension": ".py",
   "mimetype": "text/x-python",
   "name": "python",
   "nbconvert_exporter": "python",
   "pygments_lexer": "ipython3",
   "version": "3.10.2"
  },
  "orig_nbformat": 4
 },
 "nbformat": 4,
 "nbformat_minor": 2
}
